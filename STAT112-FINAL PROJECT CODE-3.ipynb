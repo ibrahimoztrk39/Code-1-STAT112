{
 "cells": [
  {
   "cell_type": "code",
   "execution_count": null,
   "metadata": {},
   "outputs": [],
   "source": [
    "#Importing necessary packages\n",
    "import matplotlib.pyplot as plt\n",
    "import openpyxl\n",
    "import pandas as pd\n",
    "\n",
    "#Importing the data set\n",
    "file_path = r'C:\\Users\\İbrahim\\Downloads\\ModifiedArrest.xlsx'\n",
    "df = pd.read_excel(file_path)\n",
    "\n",
    "#Counting the number of each category\n",
    "location_counts = df['General Category Of The Arrest'].value_counts()\n",
    "\n",
    "# Arranging the bar chart.\n",
    "location_counts.plot(kind='bar', color='skyblue', edgecolor='black')\n",
    "\n",
    "# Customizing the chart\n",
    "plt.title('Number of Arrests by Arrest Category')\n",
    "plt.xlabel('General Category Of The Arrest')\n",
    "plt.ylabel('Number of Arrests')\n",
    "\n",
    "# Adding labels to the bars\n",
    "for i, count in enumerate(location_counts):\n",
    "    plt.text(i, count + 0.1, str(count), ha='center', va='bottom', rotation=0)\n",
    "\n",
    "#Arranging the interval of y-axis.\n",
    "plt.yticks(range(0, 35, 5))\n",
    "\n",
    "# Showing the plot\n",
    "plt.show()"
   ]
  }
 ],
 "metadata": {
  "language_info": {
   "name": "python"
  }
 },
 "nbformat": 4,
 "nbformat_minor": 2
}
