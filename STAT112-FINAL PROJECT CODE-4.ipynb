{
 "cells": [
  {
   "cell_type": "code",
   "execution_count": null,
   "metadata": {},
   "outputs": [],
   "source": [
    "#Importing necessary packages\n",
    "import matplotlib.pyplot as plt\n",
    "import openpyxl\n",
    "import pandas as pd\n",
    "\n",
    "#Importing the data set\n",
    "file_path = r'C:\\Users\\İbrahim\\Downloads\\ModifiedArrest.xlsx'\n",
    "df = pd.read_excel(file_path)\n",
    "\n",
    "#Creating the scatter plot\n",
    "plt.scatter(df[\"What Is The Income Of Individual?\"], df[\"How Many Hours He/She Work?\"], color='blue', alpha=0.7)\n",
    "\n",
    "# Customizing the plot\n",
    "plt.title(f'Scatter Plot of {\"Hours Work\"} vs {\"Income\"}')\n",
    "plt.xlabel(\"What Is The Income Of Individual?\")\n",
    "plt.ylabel(\"How Many Hours He/She Work?\")\n",
    "#Arranging the intervals\n",
    "plt.xticks(range(50000, 80001, 5000))\n",
    "plt.yticks(range(25, 51, 5))\n",
    "\n",
    "# Adding the count as a label on top of the dots.\n",
    "for i, count in enumerate(df.groupby([\"What Is The Income Of Individual?\", \"How Many Hours He/She Work?\"]).size()):\n",
    "    plt.text(df[\"What Is The Income Of Individual?\"][i], df[\"How Many Hours He/She Work?\"][i], str(count), fontsize=10, ha='center', va='bottom')\n",
    "plt.grid(True)\n",
    "\n",
    "#Showing the graph.\n",
    "plt.show()"
   ]
  }
 ],
 "metadata": {
  "language_info": {
   "name": "python"
  }
 },
 "nbformat": 4,
 "nbformat_minor": 2
}
