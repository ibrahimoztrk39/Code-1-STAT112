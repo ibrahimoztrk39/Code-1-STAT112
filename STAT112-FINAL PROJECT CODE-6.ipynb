{
 "cells": [
  {
   "cell_type": "code",
   "execution_count": null,
   "metadata": {},
   "outputs": [],
   "source": [
    "#Importing necessary packages\n",
    "import matplotlib.pyplot as plt\n",
    "import openpyxl\n",
    "import pandas as pd\n",
    "#Importing  and reading the data set\n",
    "file_path = r'C:\\Users\\İbrahim\\Downloads\\ModifiedArrest.xlsx'\n",
    "df = pd.read_excel(file_path)\n",
    "#Creating a box plot\n",
    "plt.boxplot(df['What Is The Income Of Individual?'], vert=False)\n",
    "plt.title('Box Plot of Income')\n",
    "plt.xlabel('Income')\n",
    "#Showing the box plot.\n",
    "plt.show()"
   ]
  }
 ],
 "metadata": {
  "language_info": {
   "name": "python"
  }
 },
 "nbformat": 4,
 "nbformat_minor": 2
}
