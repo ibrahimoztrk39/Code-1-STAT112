{
 "cells": [
  {
   "cell_type": "code",
   "execution_count": null,
   "metadata": {},
   "outputs": [],
   "source": [
    "#Importing necessary packages\n",
    "import matplotlib.pyplot as plt\n",
    "import openpyxl\n",
    "import pandas as pd\n",
    "#Importing  and reading the data set\n",
    "file_path = r'C:\\Users\\İbrahim\\Downloads\\ModifiedArrest.xlsx'\n",
    "df = pd.read_excel(file_path)\n",
    "\n",
    "#Creating a grouped bar chart\n",
    "grouped_data = df.groupby(['Charge', '(Male/Female)']).size().unstack()\n",
    "\n",
    "# Arranging the chart\n",
    "grouped_data.plot(kind='bar', width=0.8, color = [\"red\", \"blue\"])\n",
    "\n",
    "# Customizing the chart\n",
    "plt.title('Distribution of Charges (Male/Female)')\n",
    "plt.xlabel('Charges')\n",
    "plt.ylabel('Number of Arrests')\n",
    "plt.legend(title='Gender')\n",
    "\n",
    "# Showing the chart\n",
    "plt.show()"
   ]
  }
 ],
 "metadata": {
  "language_info": {
   "name": "python"
  }
 },
 "nbformat": 4,
 "nbformat_minor": 2
}
