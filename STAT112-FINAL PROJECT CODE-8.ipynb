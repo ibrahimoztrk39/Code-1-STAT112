{
 "cells": [
  {
   "cell_type": "code",
   "execution_count": null,
   "metadata": {},
   "outputs": [],
   "source": [
    "#Importing necessary packages\n",
    "import matplotlib.pyplot as plt\n",
    "import openpyxl\n",
    "import pandas as pd\n",
    "#Importing  and reading the data set\n",
    "file_path = r'C:\\Users\\İbrahim\\Downloads\\ModifiedArrest.xlsx'\n",
    "df = pd.read_excel(file_path)\n",
    "\n",
    "#Changing the date format to d-m-y. Handling errorss.\n",
    "try:\n",
    "    df['Date'] = pd.to_datetime(df['Date'], format='%d-%m-%Y')\n",
    "except ValueError:\n",
    "    df['Date'] = pd.to_datetime(df['Date'], errors='coerce')\n",
    "\n",
    "# Changing to date time format\n",
    "df['Month'] = df['Date'].dt.to_period('M')\n",
    "\n",
    "# Count the occurrences of each month\n",
    "monthly_counts = df['Month'].value_counts().sort_index()\n",
    "\n",
    "# Arranging the time series graph\n",
    "plt.figure(figsize=(12, 6))\n",
    "monthly_counts.plot(kind='line', marker='o', color='b')\n",
    "\n",
    "# Customizing the plot\n",
    "plt.title('Monthly Time Series Line Plot')\n",
    "plt.xlabel('Month')\n",
    "plt.ylabel('Number of Arrests')\n",
    "plt.grid(True)\n",
    "\n",
    "# Arranging y-axis interval\n",
    "plt.yticks(range(0, 15))\n",
    "\n",
    "#Showing the plot\n",
    "plt.show()"
   ]
  }
 ],
 "metadata": {
  "language_info": {
   "name": "python"
  }
 },
 "nbformat": 4,
 "nbformat_minor": 2
}
